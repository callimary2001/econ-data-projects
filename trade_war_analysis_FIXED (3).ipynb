{
 "cells": [
  {
   "cell_type": "markdown",
   "metadata": {},
   "source": [
    "# 📊 Trade War Analysis: China vs USA\n",
    "**Objective:** Analyze the impact of U.S.–China trade tensions using import/export data from 2002–2016.\n",
    "\n",
    "**Author:** Callista Mary  \n",
    "**Program:** B.S. in Economics  \n",
    "**University:** Louisiana State University\n",
    "**Project Date:** Summer 2025  \n",
    "**Project Title:** US–China Trade War: Data Analysis Using R\n"
   ]
  },
  {
   "cell_type": "code",
   "execution_count": null,
   "metadata": {},
   "outputs": [],
   "source": [
    "# Load required libraries\n",
    "library(tidyverse)\n",
    "library(ggplot2)\n",
    "library(readr)\n",
    "library(dplyr)"
   ]
  },
  {
   "cell_type": "code",
   "execution_count": null,
   "metadata": {},
   "outputs": [],
   "source": [
    "# Load your dataset (make sure it's uploaded in the same Jupyter folder)\n",
    "data <- read_csv(\"commodity_trade_statistics_data.csv\")\n",
    "head(data)"
   ]
  },
  {
   "cell_type": "markdown",
   "metadata": {},
   "source": [
    "### ✅ Data Cleaning (optional filtering)\n",
    "You can filter data by country, year, flow (import/export), or commodity."
   ]
  },
  {
   "cell_type": "code",
   "execution_count": null,
   "metadata": {},
   "outputs": [],
   "source": [
    "# Example: Filter only China & USA\n",
    "trade_filtered <- data %>% \n",
    "  filter(country_or_area %in% c(\"China\", \"United States of America\"))\n",
    "head(trade_filtered)"
   ]
  },
  {
   "cell_type": "markdown",
   "metadata": {},
   "source": [
    "### 📈 Plot Example: Trade Value Over Time"
   ]
  },
  {
   "cell_type": "code",
   "execution_count": null,
   "metadata": {},
   "outputs": [],
   "source": [
    "ggplot(trade_filtered, aes(x = year, y = trade_usd, color = country_or_area)) + \n",
    "  geom_line(stat = \"summary\", fun = sum) + \n",
    "  labs(title = \"US-China Trade Value Over Time\", y = \"Trade Value (USD)\", x = \"Year\")"
   ]
  },
  {
   "cell_type": "markdown",
   "metadata": {},
   "source": [
    "### ✍️ Insights\n",
    "- China's export trade value to the U.S. shows a steady increase from 2002 to 2016.\n",
    "- The United States had a more stable but lower trade value in comparison.\n",
    "- A clear shift is seen after 2008, where China's exports accelerate more aggressively.\n"
   ]
  },
  {
   "cell_type": "markdown",
   "metadata": {},
   "source": [
    "### 📌 Conclusion\n",
    "📌 Conclusion\n",
    "\n",
    "The data reveals that China consistently exported more to the U.S. than it imported over the period. The trade gap widened after 2008, highlighting a growing trade imbalance. This pattern reflects the early tensions that eventually escalated into the trade war.\n"
   ]
  }
 ],
 "metadata": {
  "kernelspec": {
   "display_name": "R",
   "language": "R",
   "name": "ir"
  },
  "language_info": {
   "codemirror_mode": "r",
   "file_extension": ".r",
   "mimetype": "text/x-r-source",
   "name": "R",
   "pygments_lexer": "r",
   "version": "4.5.0"
  }
 },
 "nbformat": 4,
 "nbformat_minor": 4
}
